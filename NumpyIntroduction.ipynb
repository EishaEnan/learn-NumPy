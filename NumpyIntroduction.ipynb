{
 "cells": [
  {
   "cell_type": "code",
   "execution_count": 2,
   "id": "9e3c9694",
   "metadata": {},
   "outputs": [],
   "source": [
    "import numpy as np"
   ]
  },
  {
   "cell_type": "code",
   "execution_count": 3,
   "id": "e448b0bc",
   "metadata": {},
   "outputs": [
    {
     "data": {
      "text/plain": [
       "array([1, 2, 3])"
      ]
     },
     "execution_count": 3,
     "metadata": {},
     "output_type": "execute_result"
    }
   ],
   "source": [
    "a = np.array([1, 2, 3])\n",
    "a"
   ]
  },
  {
   "cell_type": "code",
   "execution_count": 10,
   "id": "bd95bff3",
   "metadata": {},
   "outputs": [
    {
     "data": {
      "text/plain": [
       "dtype('int64')"
      ]
     },
     "execution_count": 10,
     "metadata": {},
     "output_type": "execute_result"
    }
   ],
   "source": [
    "type(a)\n",
    "a.dtype"
   ]
  },
  {
   "cell_type": "code",
   "execution_count": 5,
   "id": "ed0502a8",
   "metadata": {},
   "outputs": [
    {
     "data": {
      "text/plain": [
       "array([9.  , 3.4 , 2.33])"
      ]
     },
     "execution_count": 5,
     "metadata": {},
     "output_type": "execute_result"
    }
   ],
   "source": [
    "b = np.array([9.0, 3.4, 2.33])\n",
    "b"
   ]
  },
  {
   "cell_type": "code",
   "execution_count": 9,
   "id": "3b987c61",
   "metadata": {},
   "outputs": [
    {
     "data": {
      "text/plain": [
       "dtype('float64')"
      ]
     },
     "execution_count": 9,
     "metadata": {},
     "output_type": "execute_result"
    }
   ],
   "source": [
    "type(b)\n",
    "b.dtype"
   ]
  },
  {
   "cell_type": "code",
   "execution_count": 35,
   "id": "e8cb7278",
   "metadata": {},
   "outputs": [
    {
     "name": "stdout",
     "output_type": "stream",
     "text": [
      "[[1 2 3]\n",
      " [4 5 6]\n",
      " [7 8 9]]\n",
      "Shape: (3, 3)\n",
      "element count: 9\n",
      "Dimension: 2\n",
      "DataType: int16\n",
      "Individual element size: 2bytes\n",
      "Total Size = t_item*ind_size = 18bytes\n"
     ]
    }
   ],
   "source": [
    "twoDim = np.array([[1, 2, 3],\n",
    "                  [4, 5, 6],\n",
    "                  [7, 8, 9]], dtype='int16')\n",
    "print(twoDim)\n",
    "print(f'Shape: {twoDim.shape}')\n",
    "print(f'element count: {twoDim.size}')\n",
    "print(f'Dimension: {twoDim.ndim}')\n",
    "print(f'DataType: {twoDim.dtype}')\n",
    "print(f'Individual element size: {twoDim.itemsize}bytes')\n",
    "print(f\"Total Size = t_item*ind_size = {twoDim.size*twoDim.itemsize}bytes\")"
   ]
  },
  {
   "cell_type": "code",
   "execution_count": 14,
   "id": "2497ae91",
   "metadata": {},
   "outputs": [
    {
     "data": {
      "text/plain": [
       "1"
      ]
     },
     "execution_count": 14,
     "metadata": {},
     "output_type": "execute_result"
    }
   ],
   "source": [
    "x = np.array([1, 2, 3], dtype='int16')\n",
    "x.ndim"
   ]
  },
  {
   "cell_type": "code",
   "execution_count": 36,
   "id": "417f61b9",
   "metadata": {},
   "outputs": [
    {
     "name": "stdout",
     "output_type": "stream",
     "text": [
      "256\n"
     ]
    }
   ],
   "source": [
    "print(2**8)"
   ]
  },
  {
   "cell_type": "code",
   "execution_count": 38,
   "id": "adb149dd",
   "metadata": {},
   "outputs": [
    {
     "name": "stdout",
     "output_type": "stream",
     "text": [
      "[44  4  5]\n"
     ]
    }
   ],
   "source": [
    "y = np.array([300, 4, 5], dtype='int8')\n",
    "print(y)"
   ]
  },
  {
   "cell_type": "code",
   "execution_count": 42,
   "id": "10b8df54",
   "metadata": {},
   "outputs": [
    {
     "name": "stdout",
     "output_type": "stream",
     "text": [
      "6\n",
      "[1 4 7]\n",
      "[4 5 6]\n"
     ]
    }
   ],
   "source": [
    "#getting specific element array[r, c]\n",
    "print(twoDim[1, 2])\n",
    "\n",
    "#gettin specific colum n array[:, n]\n",
    "print(twoDim[:, 0])\n",
    "\n",
    "#getting specific row m array[m, :]\n",
    "print(twoDim[1, :])"
   ]
  },
  {
   "cell_type": "code",
   "execution_count": 43,
   "id": "750e77d1",
   "metadata": {},
   "outputs": [
    {
     "name": "stdout",
     "output_type": "stream",
     "text": [
      "[2 4 6]\n"
     ]
    }
   ],
   "source": [
    "m = np.array([0, 1, 2, 3, 4, 5, 6, 7, 8])\n",
    "#array[start:end:stepSize]\n",
    "print(m[2:8:2])"
   ]
  },
  {
   "cell_type": "code",
   "execution_count": 45,
   "id": "38509d10",
   "metadata": {},
   "outputs": [
    {
     "name": "stdout",
     "output_type": "stream",
     "text": [
      "[[1 2 1]\n",
      " [4 5 2]\n",
      " [7 8 3]]\n"
     ]
    }
   ],
   "source": [
    "#changing values of a column or row\n",
    "twoDim[:, 2] = [1, 2, 3]\n",
    "print(twoDim)"
   ]
  },
  {
   "cell_type": "code",
   "execution_count": 52,
   "id": "2d407778",
   "metadata": {},
   "outputs": [
    {
     "name": "stdout",
     "output_type": "stream",
     "text": [
      "[0. 0. 0. 0. 0.]\n",
      "[[1 1 1]\n",
      " [1 1 1]\n",
      " [1 1 1]]\n",
      "[[[2 2 2]\n",
      "  [2 2 2]]\n",
      "\n",
      " [[2 2 2]\n",
      "  [2 2 2]]\n",
      "\n",
      " [[2 2 2]\n",
      "  [2 2 2]]\n",
      "\n",
      " [[2 2 2]\n",
      "  [2 2 2]]]\n",
      "[4 4 4]\n"
     ]
    }
   ],
   "source": [
    "#all zeros\n",
    "print(np.zeros(5))\n",
    "print(np.ones((3, 3), dtype='int8'))\n",
    "print(np.full((4, 2, 3),2, dtype='int8'))\n",
    "print(np.full_like(a, 4))"
   ]
  },
  {
   "cell_type": "code",
   "execution_count": 65,
   "id": "12912d1d",
   "metadata": {},
   "outputs": [
    {
     "data": {
      "text/plain": [
       "array([[2, 5, 5],\n",
       "       [6, 5, 7],\n",
       "       [1, 1, 2]])"
      ]
     },
     "execution_count": 65,
     "metadata": {},
     "output_type": "execute_result"
    }
   ],
   "source": [
    "#random Integers: (range, size/shape)\n",
    "np.random.randint(10, size=(3,3))"
   ]
  },
  {
   "cell_type": "code",
   "execution_count": 66,
   "id": "9d55b1cb",
   "metadata": {},
   "outputs": [
    {
     "data": {
      "text/plain": [
       "array([[0.4160099 , 0.0206774 ],\n",
       "       [0.14016035, 0.66918333],\n",
       "       [0.01158293, 0.75812723],\n",
       "       [0.38048849, 0.41636529]])"
      ]
     },
     "execution_count": 66,
     "metadata": {},
     "output_type": "execute_result"
    }
   ],
   "source": [
    "#random Decimal numbers: (r, c)\n",
    "np.random.rand(4, 2)"
   ]
  },
  {
   "cell_type": "code",
   "execution_count": 67,
   "id": "d4450f15",
   "metadata": {},
   "outputs": [
    {
     "data": {
      "text/plain": [
       "array([[1., 0., 0.],\n",
       "       [0., 1., 0.],\n",
       "       [0., 0., 1.]])"
      ]
     },
     "execution_count": 67,
     "metadata": {},
     "output_type": "execute_result"
    }
   ],
   "source": [
    "#identity matrix\n",
    "np.identity(3)"
   ]
  },
  {
   "cell_type": "code",
   "execution_count": 73,
   "id": "ec89b76f",
   "metadata": {},
   "outputs": [
    {
     "name": "stdout",
     "output_type": "stream",
     "text": [
      "(1, 3)\n"
     ]
    },
    {
     "data": {
      "text/plain": [
       "array([[1, 2, 3],\n",
       "       [1, 2, 3],\n",
       "       [1, 2, 3]])"
      ]
     },
     "execution_count": 73,
     "metadata": {},
     "output_type": "execute_result"
    }
   ],
   "source": [
    "#repeat an array\n",
    "arr = np.array([[1, 2, 3]])\n",
    "print(arr.shape)\n",
    "r1 = np.repeat(arr, 3, axis=0)\n",
    "r1"
   ]
  },
  {
   "cell_type": "code",
   "execution_count": 85,
   "id": "8a81cf5b",
   "metadata": {},
   "outputs": [
    {
     "name": "stdout",
     "output_type": "stream",
     "text": [
      "[[0. 0. 0.]\n",
      " [0. 9. 0.]\n",
      " [0. 0. 0.]]\n",
      "[[1. 1. 1. 1. 1.]\n",
      " [1. 1. 1. 1. 1.]\n",
      " [1. 1. 1. 1. 1.]\n",
      " [1. 1. 1. 1. 1.]\n",
      " [1. 1. 1. 1. 1.]]\n",
      "[[1. 1. 1. 1. 1.]\n",
      " [1. 0. 0. 0. 1.]\n",
      " [1. 0. 9. 0. 1.]\n",
      " [1. 0. 0. 0. 1.]\n",
      " [1. 1. 1. 1. 1.]]\n"
     ]
    }
   ],
   "source": [
    "#ones\n",
    "g = np.ones((5,5))\n",
    "z = np.zeros((3,3))\n",
    "z[1,1] = 9\n",
    "print(z)\n",
    "print(g)\n",
    "\n",
    "g[1:4,1:4] = z\n",
    "print(g)"
   ]
  },
  {
   "cell_type": "markdown",
   "id": "23827c4a",
   "metadata": {},
   "source": [
    "#### Be careful when copying arrays!"
   ]
  },
  {
   "cell_type": "code",
   "execution_count": 87,
   "id": "4e487fa5",
   "metadata": {},
   "outputs": [
    {
     "name": "stdout",
     "output_type": "stream",
     "text": [
      "[100   2   3]\n",
      "[100   2   3]\n",
      "[100   2   3]\n",
      "[1 2 3]\n"
     ]
    }
   ],
   "source": [
    "a = np.array([1, 2, 3])\n",
    "b = a\n",
    "b[0] = 100\n",
    "print(b)\n",
    "print(a)\n",
    "\n",
    "#Copy\n",
    "x = np.array([1, 2, 3])\n",
    "b = x.copy()\n",
    "b[0] = 100\n",
    "print(b)\n",
    "print(x)"
   ]
  },
  {
   "cell_type": "code",
   "execution_count": 88,
   "id": "36cb94b2",
   "metadata": {},
   "outputs": [],
   "source": [
    "#We can do element wise basic algebraic operations"
   ]
  },
  {
   "cell_type": "markdown",
   "id": "17c8820b",
   "metadata": {},
   "source": [
    "#### Linear algebra"
   ]
  },
  {
   "cell_type": "code",
   "execution_count": 92,
   "id": "8f4ee5c4",
   "metadata": {},
   "outputs": [
    {
     "data": {
      "text/plain": [
       "array([[6., 6.],\n",
       "       [6., 6.]])"
      ]
     },
     "execution_count": 92,
     "metadata": {},
     "output_type": "execute_result"
    }
   ],
   "source": [
    "# Matrix Multiplication\n",
    "a = np.ones((2, 3)) # 2x3\n",
    "b = np.full((3, 2), 2) # 3x2\n",
    "np.matmul(a,b) # 2x2"
   ]
  },
  {
   "cell_type": "code",
   "execution_count": 94,
   "id": "00d19d4b",
   "metadata": {},
   "outputs": [
    {
     "data": {
      "text/plain": [
       "1.0"
      ]
     },
     "execution_count": 94,
     "metadata": {},
     "output_type": "execute_result"
    }
   ],
   "source": [
    "# Determinants\n",
    "i = np.identity(3)\n",
    "np.linalg.det(i)"
   ]
  },
  {
   "cell_type": "code",
   "execution_count": 109,
   "id": "98da8a8c",
   "metadata": {},
   "outputs": [
    {
     "name": "stdout",
     "output_type": "stream",
     "text": [
      "P = [[1 2 3]\n",
      " [0 2 6]\n",
      " [0 0 9]]\n",
      "Det(P): 18.000000000000004\n",
      "P-Inverse: [[ 1.         -1.          0.33333333]\n",
      " [ 0.          0.5        -0.33333333]\n",
      " [ 0.          0.          0.11111111]]\n",
      "Eigenvalues of P: [1. 2. 9.]\n",
      "Eigenvectors of P: (array([1., 2., 9.]), array([[1.        , 0.89442719, 0.40840458],\n",
      "       [0.        , 0.4472136 , 0.59404303],\n",
      "       [0.        , 0.        , 0.6930502 ]]))\n"
     ]
    }
   ],
   "source": [
    "#Inverse\n",
    "P = np.array([[1, 2, 3],\n",
    "             [0, 2, 6],\n",
    "             [0, 0, 9]])\n",
    "print(f\"P = {P}\")\n",
    "print(f\"Det(P): {np.linalg.det(P)}\")\n",
    "print(f\"P-Inverse: {np.linalg.inv(P)}\")\n",
    "print(f\"Eigenvalues of P: {np.linalg.eigvals(P)}\")\n",
    "\n",
    "#we can do many more"
   ]
  },
  {
   "cell_type": "markdown",
   "id": "9936f553",
   "metadata": {},
   "source": [
    "#### Statistics\n"
   ]
  },
  {
   "cell_type": "code",
   "execution_count": 110,
   "id": "79ee22be",
   "metadata": {},
   "outputs": [
    {
     "data": {
      "text/plain": [
       "1.0"
      ]
     },
     "execution_count": 110,
     "metadata": {},
     "output_type": "execute_result"
    }
   ],
   "source": [
    "np.min(a)"
   ]
  },
  {
   "cell_type": "code",
   "execution_count": 111,
   "id": "6275b8aa",
   "metadata": {},
   "outputs": [
    {
     "data": {
      "text/plain": [
       "1.0"
      ]
     },
     "execution_count": 111,
     "metadata": {},
     "output_type": "execute_result"
    }
   ],
   "source": [
    "np.max(a)"
   ]
  },
  {
   "cell_type": "code",
   "execution_count": 112,
   "id": "ed729aa8",
   "metadata": {},
   "outputs": [
    {
     "data": {
      "text/plain": [
       "6.0"
      ]
     },
     "execution_count": 112,
     "metadata": {},
     "output_type": "execute_result"
    }
   ],
   "source": [
    "np.sum(a)"
   ]
  },
  {
   "cell_type": "markdown",
   "id": "2cce37cf",
   "metadata": {},
   "source": [
    "### Reorganizing"
   ]
  },
  {
   "cell_type": "code",
   "execution_count": 115,
   "id": "cd8b0b1e",
   "metadata": {},
   "outputs": [
    {
     "name": "stdout",
     "output_type": "stream",
     "text": [
      "[[1 2 3 4]\n",
      " [5 6 7 8]]\n",
      "[[1 2]\n",
      " [3 4]\n",
      " [5 6]\n",
      " [7 8]]\n"
     ]
    }
   ],
   "source": [
    "b = np.array([[1, 2, 3, 4],\n",
    "             [5, 6, 7, 8]])\n",
    "print(b)\n",
    "a = b.reshape(4,2)\n",
    "print(a)"
   ]
  },
  {
   "cell_type": "code",
   "execution_count": 116,
   "id": "9a0a442f",
   "metadata": {},
   "outputs": [
    {
     "data": {
      "text/plain": [
       "array([[1, 2, 3, 4],\n",
       "       [5, 6, 7, 8],\n",
       "       [1, 2, 3, 4],\n",
       "       [5, 6, 7, 8]])"
      ]
     },
     "execution_count": 116,
     "metadata": {},
     "output_type": "execute_result"
    }
   ],
   "source": [
    "#vertically stacking vectors or creating matrices\n",
    "v1 = np.array([1, 2, 3, 4])\n",
    "v2 = np.array([5, 6, 7, 8])\n",
    "\n",
    "np.vstack([v1, v2, v1, v2])"
   ]
  },
  {
   "cell_type": "code",
   "execution_count": 117,
   "id": "1abf86ee",
   "metadata": {},
   "outputs": [
    {
     "data": {
      "text/plain": [
       "array([1, 2, 3, 4, 5, 6, 7, 8])"
      ]
     },
     "execution_count": 117,
     "metadata": {},
     "output_type": "execute_result"
    }
   ],
   "source": [
    "#Horizontal stack\n",
    "np.hstack([v1, v2])"
   ]
  },
  {
   "cell_type": "markdown",
   "id": "524a834f",
   "metadata": {},
   "source": [
    "#### Miscellaneous"
   ]
  },
  {
   "cell_type": "markdown",
   "id": "85390767",
   "metadata": {},
   "source": [
    "   ##### Loading data"
   ]
  },
  {
   "cell_type": "code",
   "execution_count": 121,
   "id": "e58a0e16",
   "metadata": {},
   "outputs": [
    {
     "name": "stdout",
     "output_type": "stream",
     "text": [
      "[[1. 2. 3. 4.]\n",
      " [5. 6. 7. 8.]]\n",
      "[[1 2 3 4]\n",
      " [5 6 7 8]]\n"
     ]
    }
   ],
   "source": [
    "data = np.genfromtxt('file.txt', delimiter=',')\n",
    "dataAsInt = data.astype('int32')\n",
    "print(data)\n",
    "print(dataAsInt)"
   ]
  },
  {
   "cell_type": "markdown",
   "id": "6d98a600",
   "metadata": {},
   "source": [
    "#### Boolean masking and advanced indexing"
   ]
  },
  {
   "cell_type": "code",
   "execution_count": 122,
   "id": "8f522803",
   "metadata": {},
   "outputs": [
    {
     "data": {
      "text/plain": [
       "array([3, 4, 5, 6, 7, 8], dtype=int32)"
      ]
     },
     "execution_count": 122,
     "metadata": {},
     "output_type": "execute_result"
    }
   ],
   "source": [
    "dataAsInt[dataAsInt > 2]"
   ]
  },
  {
   "cell_type": "code",
   "execution_count": 123,
   "id": "f003134c",
   "metadata": {},
   "outputs": [
    {
     "data": {
      "text/plain": [
       "array([1, 4, 6, 7, 9])"
      ]
     },
     "execution_count": 123,
     "metadata": {},
     "output_type": "execute_result"
    }
   ],
   "source": [
    "#Index with a list in numpy\n",
    "a = np.array([1, 2, 3, 4, 5, 6, 7, 8, 9])\n",
    "a[[0, 3, 5, 6, 8]]"
   ]
  },
  {
   "cell_type": "code",
   "execution_count": 127,
   "id": "b3658077",
   "metadata": {},
   "outputs": [
    {
     "data": {
      "text/plain": [
       "array([False,  True,  True,  True])"
      ]
     },
     "execution_count": 127,
     "metadata": {},
     "output_type": "execute_result"
    }
   ],
   "source": [
    "np.any(dataAsInt > 5, axis=0)"
   ]
  },
  {
   "cell_type": "code",
   "execution_count": 128,
   "id": "f009f30e",
   "metadata": {},
   "outputs": [
    {
     "data": {
      "text/plain": [
       "array([False, False, False, False])"
      ]
     },
     "execution_count": 128,
     "metadata": {},
     "output_type": "execute_result"
    }
   ],
   "source": [
    "np.all(dataAsInt>5, axis=0)"
   ]
  },
  {
   "cell_type": "code",
   "execution_count": 131,
   "id": "05ffd99c",
   "metadata": {},
   "outputs": [
    {
     "data": {
      "text/plain": [
       "array([[ True,  True, False, False],\n",
       "       [False, False, False, False]])"
      ]
     },
     "execution_count": 131,
     "metadata": {},
     "output_type": "execute_result"
    }
   ],
   "source": [
    "(~(data>2) & (data<5))"
   ]
  },
  {
   "cell_type": "code",
   "execution_count": 134,
   "id": "69d87d78",
   "metadata": {},
   "outputs": [
    {
     "name": "stdout",
     "output_type": "stream",
     "text": [
      "[[1 2 1]\n",
      " [4 5 2]\n",
      " [7 8 3]]\n"
     ]
    },
    {
     "data": {
      "text/plain": [
       "array([1, 5, 3], dtype=int16)"
      ]
     },
     "execution_count": 134,
     "metadata": {},
     "output_type": "execute_result"
    }
   ],
   "source": [
    "#diagonal indexing\n",
    "print(twoDim)\n",
    "twoDim[[0,1,2], [0,1,2]]"
   ]
  },
  {
   "cell_type": "code",
   "execution_count": null,
   "id": "a433f48b",
   "metadata": {},
   "outputs": [],
   "source": []
  }
 ],
 "metadata": {
  "kernelspec": {
   "display_name": "Python 3 (ipykernel)",
   "language": "python",
   "name": "python3"
  },
  "language_info": {
   "codemirror_mode": {
    "name": "ipython",
    "version": 3
   },
   "file_extension": ".py",
   "mimetype": "text/x-python",
   "name": "python",
   "nbconvert_exporter": "python",
   "pygments_lexer": "ipython3",
   "version": "3.10.6"
  }
 },
 "nbformat": 4,
 "nbformat_minor": 5
}
