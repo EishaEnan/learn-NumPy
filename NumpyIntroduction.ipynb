{
 "cells": [
  {
   "attachments": {},
   "cell_type": "markdown",
   "id": "197bcdef",
   "metadata": {},
   "source": [
    "# Importing NumPy"
   ]
  },
  {
   "cell_type": "code",
   "execution_count": 1,
   "id": "906004c2",
   "metadata": {},
   "outputs": [],
   "source": [
    "import numpy as np"
   ]
  },
  {
   "attachments": {},
   "cell_type": "markdown",
   "id": "844092c0",
   "metadata": {},
   "source": [
    "# Creating NumPy array"
   ]
  },
  {
   "cell_type": "code",
   "execution_count": 2,
   "id": "e448b0bc",
   "metadata": {},
   "outputs": [
    {
     "data": {
      "text/plain": [
       "array([1, 2, 3])"
      ]
     },
     "execution_count": 2,
     "metadata": {},
     "output_type": "execute_result"
    }
   ],
   "source": [
    "a = np.array([1, 2, 3])\n",
    "a"
   ]
  },
  {
   "cell_type": "code",
   "execution_count": 5,
   "id": "bd95bff3",
   "metadata": {},
   "outputs": [
    {
     "data": {
      "text/plain": [
       "dtype('int64')"
      ]
     },
     "execution_count": 5,
     "metadata": {},
     "output_type": "execute_result"
    }
   ],
   "source": [
    "a.dtype"
   ]
  },
  {
   "cell_type": "code",
   "execution_count": 6,
   "id": "ed0502a8",
   "metadata": {},
   "outputs": [
    {
     "data": {
      "text/plain": [
       "array([9.  , 3.4 , 2.33])"
      ]
     },
     "execution_count": 6,
     "metadata": {},
     "output_type": "execute_result"
    }
   ],
   "source": [
    "b = np.array([9.0, 3.4, 2.33])\n",
    "b"
   ]
  },
  {
   "cell_type": "code",
   "execution_count": 8,
   "id": "3b987c61",
   "metadata": {},
   "outputs": [
    {
     "data": {
      "text/plain": [
       "dtype('float64')"
      ]
     },
     "execution_count": 8,
     "metadata": {},
     "output_type": "execute_result"
    }
   ],
   "source": [
    "b.dtype"
   ]
  },
  {
   "attachments": {},
   "cell_type": "markdown",
   "id": "aaa3e3a9",
   "metadata": {},
   "source": [
    "## Getting General Properties of an array"
   ]
  },
  {
   "cell_type": "code",
   "execution_count": 9,
   "id": "e8cb7278",
   "metadata": {},
   "outputs": [
    {
     "name": "stdout",
     "output_type": "stream",
     "text": [
      "[[1 2 3]\n",
      " [4 5 6]\n",
      " [7 8 9]]\n",
      "Shape: (3, 3)\n",
      "element count: 9\n",
      "Dimension: 2\n",
      "DataType: int16\n",
      "Individual element size: 2bytes\n",
      "Total Size = t_item*ind_size = 18bytes\n"
     ]
    }
   ],
   "source": [
    "twoDim = np.array([[1, 2, 3],\n",
    "                  [4, 5, 6],\n",
    "                  [7, 8, 9]], dtype='int16')\n",
    "print(twoDim)\n",
    "print(f'Shape: {twoDim.shape}')\n",
    "print(f'element count: {twoDim.size}')\n",
    "print(f'Dimension: {twoDim.ndim}')\n",
    "print(f'DataType: {twoDim.dtype}')\n",
    "print(f'Individual element size: {twoDim.itemsize}bytes')\n",
    "print(f\"Total Size = t_item*ind_size = {twoDim.size*twoDim.itemsize}bytes\")"
   ]
  },
  {
   "cell_type": "code",
   "execution_count": 18,
   "id": "adb149dd",
   "metadata": {},
   "outputs": [
    {
     "name": "stdout",
     "output_type": "stream",
     "text": [
      "[-12   4   5]\n"
     ]
    }
   ],
   "source": [
    "y = np.array([500, 4, 5], dtype='int8')\n",
    "print(y)\n",
    "# for 8 bit, from -128 to 127 is the range of numbers that can be stored"
   ]
  },
  {
   "attachments": {},
   "cell_type": "markdown",
   "id": "2b6c10e8",
   "metadata": {},
   "source": [
    "## Accessing specific elements"
   ]
  },
  {
   "cell_type": "code",
   "execution_count": 20,
   "id": "10b8df54",
   "metadata": {},
   "outputs": [
    {
     "name": "stdout",
     "output_type": "stream",
     "text": [
      "6\n",
      "[1 4 7]\n",
      "[4 5 6]\n"
     ]
    }
   ],
   "source": [
    "twoDim = np.array([[1, 2, 3],\n",
    "                  [4, 5, 6],\n",
    "                  [7, 8, 9]], dtype='int16')\n",
    "#getting specific element array[r, c]\n",
    "print(twoDim[1, 2])\n",
    "\n",
    "#gettin specific colum n array[:, n]\n",
    "print(twoDim[:, 0])\n",
    "\n",
    "#getting specific row m array[m, :]\n",
    "print(twoDim[1, :])"
   ]
  },
  {
   "cell_type": "code",
   "execution_count": 22,
   "id": "750e77d1",
   "metadata": {},
   "outputs": [
    {
     "name": "stdout",
     "output_type": "stream",
     "text": [
      "[2 4 6]\n"
     ]
    }
   ],
   "source": [
    "m = np.array([0, 1, 2, 3, 4, 5, 6, 7, 8])\n",
    "\n",
    "#array[startIndex:endIndex:stepSize]\n",
    "print(m[2:8:2])"
   ]
  },
  {
   "attachments": {},
   "cell_type": "markdown",
   "id": "b853b73c",
   "metadata": {},
   "source": [
    "## Changing value/s of element/s"
   ]
  },
  {
   "cell_type": "code",
   "execution_count": 24,
   "id": "38509d10",
   "metadata": {},
   "outputs": [
    {
     "name": "stdout",
     "output_type": "stream",
     "text": [
      "[[1 2 3]\n",
      " [4 5 6]\n",
      " [7 8 9]]\n",
      "[[1 2 1]\n",
      " [4 5 2]\n",
      " [7 8 3]]\n",
      "[[1 2 1]\n",
      " [4 5 2]\n",
      " [1 1 1]]\n"
     ]
    }
   ],
   "source": [
    "twoDim = np.array([[1, 2, 3],\n",
    "                  [4, 5, 6],\n",
    "                  [7, 8, 9]], dtype='int16')\n",
    "print(twoDim)\n",
    "\n",
    "#changing values of a column\n",
    "twoDim[:, 2] = [1, 2, 3]\n",
    "print(twoDim)\n",
    "\n",
    "#changing values of a column\n",
    "twoDim[2, :] = [1, 1, 1]\n",
    "print(twoDim)"
   ]
  },
  {
   "attachments": {},
   "cell_type": "markdown",
   "id": "15b5fef3",
   "metadata": {},
   "source": [
    "## Special usefull methods"
   ]
  },
  {
   "cell_type": "code",
   "execution_count": 27,
   "id": "2d407778",
   "metadata": {},
   "outputs": [
    {
     "name": "stdout",
     "output_type": "stream",
     "text": [
      "[0. 0. 0. 0. 0.]\n",
      "[[1. 1. 1.]\n",
      " [1. 1. 1.]\n",
      " [1. 1. 1.]]\n",
      "[[[2 2 2]\n",
      "  [2 2 2]]\n",
      "\n",
      " [[2 2 2]\n",
      "  [2 2 2]]\n",
      "\n",
      " [[2 2 2]\n",
      "  [2 2 2]]\n",
      "\n",
      " [[2 2 2]\n",
      "  [2 2 2]]]\n",
      "[4 4 4]\n"
     ]
    }
   ],
   "source": [
    "#all zeros, all ones\n",
    "print(np.zeros(5))\n",
    "print(np.ones((3, 3)))\n",
    "\n",
    "#any other than zeros or ones\n",
    "print(np.full((4, 2, 3),2))\n",
    "\n",
    "#to use the similar dimension of another array\n",
    "print(np.full_like(a, 4))"
   ]
  },
  {
   "cell_type": "code",
   "execution_count": 65,
   "id": "12912d1d",
   "metadata": {},
   "outputs": [
    {
     "data": {
      "text/plain": [
       "array([[2, 5, 5],\n",
       "       [6, 5, 7],\n",
       "       [1, 1, 2]])"
      ]
     },
     "execution_count": 65,
     "metadata": {},
     "output_type": "execute_result"
    }
   ],
   "source": [
    "#random Integers: (range, size/shape)\n",
    "np.random.randint(10, size=(3,3))"
   ]
  },
  {
   "cell_type": "code",
   "execution_count": 66,
   "id": "9d55b1cb",
   "metadata": {},
   "outputs": [
    {
     "data": {
      "text/plain": [
       "array([[0.4160099 , 0.0206774 ],\n",
       "       [0.14016035, 0.66918333],\n",
       "       [0.01158293, 0.75812723],\n",
       "       [0.38048849, 0.41636529]])"
      ]
     },
     "execution_count": 66,
     "metadata": {},
     "output_type": "execute_result"
    }
   ],
   "source": [
    "#random Decimal numbers: (r, c)\n",
    "np.random.rand(4, 2)"
   ]
  },
  {
   "cell_type": "code",
   "execution_count": 67,
   "id": "d4450f15",
   "metadata": {},
   "outputs": [
    {
     "data": {
      "text/plain": [
       "array([[1., 0., 0.],\n",
       "       [0., 1., 0.],\n",
       "       [0., 0., 1.]])"
      ]
     },
     "execution_count": 67,
     "metadata": {},
     "output_type": "execute_result"
    }
   ],
   "source": [
    "#identity matrix\n",
    "np.identity(3)"
   ]
  },
  {
   "cell_type": "code",
   "execution_count": 73,
   "id": "ec89b76f",
   "metadata": {},
   "outputs": [
    {
     "name": "stdout",
     "output_type": "stream",
     "text": [
      "(1, 3)\n"
     ]
    },
    {
     "data": {
      "text/plain": [
       "array([[1, 2, 3],\n",
       "       [1, 2, 3],\n",
       "       [1, 2, 3]])"
      ]
     },
     "execution_count": 73,
     "metadata": {},
     "output_type": "execute_result"
    }
   ],
   "source": [
    "#repeat an array\n",
    "arr = np.array([[1, 2, 3]])\n",
    "print(arr.shape)\n",
    "r1 = np.repeat(arr, 3, axis=0)\n",
    "r1"
   ]
  },
  {
   "attachments": {},
   "cell_type": "markdown",
   "id": "e75c9dd6",
   "metadata": {},
   "source": [
    "## Craete the following array using NumPy\n",
    "[[1. 1. 1. 1. 1.]\n",
    "\n",
    " [1. 0. 0. 0. 1.]\n",
    "\n",
    " [1. 0. 9. 0. 1.]\n",
    "\n",
    " [1. 0. 0. 0. 1.]\n",
    " \n",
    " [1. 1. 1. 1. 1.]]"
   ]
  },
  {
   "cell_type": "code",
   "execution_count": 28,
   "id": "8a81cf5b",
   "metadata": {},
   "outputs": [
    {
     "name": "stdout",
     "output_type": "stream",
     "text": [
      "[[0. 0. 0.]\n",
      " [0. 9. 0.]\n",
      " [0. 0. 0.]]\n",
      "[[1. 1. 1. 1. 1.]\n",
      " [1. 1. 1. 1. 1.]\n",
      " [1. 1. 1. 1. 1.]\n",
      " [1. 1. 1. 1. 1.]\n",
      " [1. 1. 1. 1. 1.]]\n",
      "[[1. 1. 1. 1. 1.]\n",
      " [1. 0. 0. 0. 1.]\n",
      " [1. 0. 9. 0. 1.]\n",
      " [1. 0. 0. 0. 1.]\n",
      " [1. 1. 1. 1. 1.]]\n"
     ]
    }
   ],
   "source": [
    "ones = np.ones((5,5))\n",
    "zeros = np.zeros((3,3))\n",
    "zeros[1,1] = 9\n",
    "print(zeros)\n",
    "print(ones)\n",
    "\n",
    "ones[1:4,1:4] = zeros\n",
    "print(ones)"
   ]
  },
  {
   "attachments": {},
   "cell_type": "markdown",
   "id": "23827c4a",
   "metadata": {},
   "source": [
    "#### Caution for copying from an array!"
   ]
  },
  {
   "cell_type": "code",
   "execution_count": 31,
   "id": "4e487fa5",
   "metadata": {},
   "outputs": [
    {
     "name": "stdout",
     "output_type": "stream",
     "text": [
      "[100   2   3]\n",
      "[100   2   3]\n",
      "[100   2   3]\n",
      "[1 2 3]\n"
     ]
    }
   ],
   "source": [
    "a = np.array([1, 2, 3])\n",
    "b = a\n",
    "b[0] = 100\n",
    "print(b)\n",
    "print(a) #changing b also changes a\n",
    "\n",
    "#Use copy() method to aviod this issue\n",
    "x = np.array([1, 2, 3])\n",
    "b = x.copy()\n",
    "b[0] = 100\n",
    "print(b)\n",
    "print(x)"
   ]
  },
  {
   "attachments": {},
   "cell_type": "markdown",
   "id": "06fba813",
   "metadata": {},
   "source": [
    "## Element-wise basic algebraic operations"
   ]
  },
  {
   "cell_type": "code",
   "execution_count": 38,
   "id": "36cb94b2",
   "metadata": {},
   "outputs": [
    {
     "name": "stdout",
     "output_type": "stream",
     "text": [
      "[9 9 9 9]\n",
      "[-7 -5 -3 -1]\n",
      "[8.   3.5  2.   1.25]\n",
      "[ 8 14 18 20]\n",
      "[2 4 6 8]\n",
      "[5 4 3 2]\n"
     ]
    }
   ],
   "source": [
    "a = np.array([1, 2, 3, 4])\n",
    "b = np.array([8, 7, 6, 5])\n",
    "\n",
    "print(a+b)\n",
    "print(a-b)\n",
    "print(b/a)\n",
    "print(a*b)\n",
    "print(2*a)\n",
    "print(b-3)"
   ]
  },
  {
   "attachments": {},
   "cell_type": "markdown",
   "id": "17c8820b",
   "metadata": {},
   "source": [
    "#### Linear algebra"
   ]
  },
  {
   "cell_type": "code",
   "execution_count": 39,
   "id": "8f4ee5c4",
   "metadata": {},
   "outputs": [
    {
     "data": {
      "text/plain": [
       "array([[6., 6.],\n",
       "       [6., 6.]])"
      ]
     },
     "execution_count": 39,
     "metadata": {},
     "output_type": "execute_result"
    }
   ],
   "source": [
    "# Matrix Multiplication\n",
    "a = np.ones((2, 3)) # 2x3\n",
    "b = np.full((3, 2), 2) # 3x2\n",
    "np.matmul(a,b) # 2x2"
   ]
  },
  {
   "cell_type": "code",
   "execution_count": 40,
   "id": "00d19d4b",
   "metadata": {},
   "outputs": [
    {
     "data": {
      "text/plain": [
       "1.0"
      ]
     },
     "execution_count": 40,
     "metadata": {},
     "output_type": "execute_result"
    }
   ],
   "source": [
    "# Determinants\n",
    "i = np.identity(3)\n",
    "np.linalg.det(i)"
   ]
  },
  {
   "cell_type": "code",
   "execution_count": 41,
   "id": "98da8a8c",
   "metadata": {},
   "outputs": [
    {
     "name": "stdout",
     "output_type": "stream",
     "text": [
      "P = [[1 2 3]\n",
      " [0 2 6]\n",
      " [0 0 9]]\n",
      "Det(P): 18.000000000000004\n",
      "P-Inverse: [[ 1.         -1.          0.33333333]\n",
      " [ 0.          0.5        -0.33333333]\n",
      " [ 0.          0.          0.11111111]]\n",
      "Eigenvalues of P: [1. 2. 9.]\n"
     ]
    }
   ],
   "source": [
    "#Inverse\n",
    "P = np.array([[1, 2, 3],\n",
    "             [0, 2, 6],\n",
    "             [0, 0, 9]])\n",
    "print(f\"P = {P}\")\n",
    "print(f\"Det(P): {np.linalg.det(P)}\")\n",
    "print(f\"P-Inverse: {np.linalg.inv(P)}\")\n",
    "print(f\"Eigenvalues of P: {np.linalg.eigvals(P)}\")"
   ]
  },
  {
   "attachments": {},
   "cell_type": "markdown",
   "id": "9936f553",
   "metadata": {},
   "source": [
    "#### Statistics\n"
   ]
  },
  {
   "cell_type": "code",
   "execution_count": 52,
   "id": "79ee22be",
   "metadata": {},
   "outputs": [
    {
     "name": "stdout",
     "output_type": "stream",
     "text": [
      "Min: 1\n",
      "Max: 4\n",
      "Sum: 10\n"
     ]
    }
   ],
   "source": [
    "a = np.array([1, 2, 3, 4])\n",
    "print(f\"Min: {np.min(a)}\")\n",
    "print(f\"Max: {np.max(a)}\")\n",
    "print(f\"Sum: {np.sum(a)}\")"
   ]
  },
  {
   "cell_type": "code",
   "execution_count": 50,
   "id": "ef9dad67",
   "metadata": {},
   "outputs": [
    {
     "name": "stdout",
     "output_type": "stream",
     "text": [
      "1.118033988749895\n"
     ]
    }
   ],
   "source": [
    "#calculating standard deviation manually\n",
    "import math\n",
    "x_bar = np.sum(a)/a.size\n",
    "\n",
    "sq = 0\n",
    "for x in a:\n",
    "    sq += (x_bar-x)**2\n",
    "\n",
    "stdev = math.sqrt(sq/a.size)\n",
    "print(stdev)\n"
   ]
  },
  {
   "cell_type": "code",
   "execution_count": 53,
   "id": "ed729aa8",
   "metadata": {},
   "outputs": [
    {
     "data": {
      "text/plain": [
       "1.118033988749895"
      ]
     },
     "execution_count": 53,
     "metadata": {},
     "output_type": "execute_result"
    }
   ],
   "source": [
    "#Standard deviation using NumPy std() method\n",
    "np.std(a)"
   ]
  },
  {
   "attachments": {},
   "cell_type": "markdown",
   "id": "2cce37cf",
   "metadata": {},
   "source": [
    "### Reorganizing an array"
   ]
  },
  {
   "cell_type": "code",
   "execution_count": 54,
   "id": "cd8b0b1e",
   "metadata": {},
   "outputs": [
    {
     "name": "stdout",
     "output_type": "stream",
     "text": [
      "[[1 2 3 4]\n",
      " [5 6 7 8]]\n",
      "[[1 2]\n",
      " [3 4]\n",
      " [5 6]\n",
      " [7 8]]\n"
     ]
    }
   ],
   "source": [
    "b = np.array([[1, 2, 3, 4],\n",
    "             [5, 6, 7, 8]])\n",
    "print(b)\n",
    "a = b.reshape(4,2)\n",
    "print(a)"
   ]
  },
  {
   "cell_type": "code",
   "execution_count": 55,
   "id": "9a0a442f",
   "metadata": {},
   "outputs": [
    {
     "data": {
      "text/plain": [
       "array([[1, 2, 3, 4],\n",
       "       [5, 6, 7, 8],\n",
       "       [1, 2, 3, 4],\n",
       "       [5, 6, 7, 8]])"
      ]
     },
     "execution_count": 55,
     "metadata": {},
     "output_type": "execute_result"
    }
   ],
   "source": [
    "#vertically stacking vectors or creating matrices\n",
    "v1 = np.array([1, 2, 3, 4])\n",
    "v2 = np.array([5, 6, 7, 8])\n",
    "\n",
    "np.vstack([v1, v2, v1, v2])"
   ]
  },
  {
   "cell_type": "code",
   "execution_count": 117,
   "id": "1abf86ee",
   "metadata": {},
   "outputs": [
    {
     "data": {
      "text/plain": [
       "array([1, 2, 3, 4, 5, 6, 7, 8])"
      ]
     },
     "execution_count": 117,
     "metadata": {},
     "output_type": "execute_result"
    }
   ],
   "source": [
    "#Horizontal stack\n",
    "np.hstack([v1, v2])"
   ]
  },
  {
   "attachments": {},
   "cell_type": "markdown",
   "id": "524a834f",
   "metadata": {},
   "source": [
    "#### Miscellaneous"
   ]
  },
  {
   "attachments": {},
   "cell_type": "markdown",
   "id": "85390767",
   "metadata": {},
   "source": [
    "   ##### Loading data"
   ]
  },
  {
   "cell_type": "code",
   "execution_count": 56,
   "id": "e58a0e16",
   "metadata": {},
   "outputs": [
    {
     "name": "stdout",
     "output_type": "stream",
     "text": [
      "[[1. 2. 3. 4.]\n",
      " [5. 6. 7. 8.]]\n",
      "[[1 2 3 4]\n",
      " [5 6 7 8]]\n"
     ]
    }
   ],
   "source": [
    "data = np.genfromtxt('file.txt', delimiter=',')\n",
    "dataAsInt = data.astype('int32')\n",
    "print(data)\n",
    "print(dataAsInt)"
   ]
  },
  {
   "attachments": {},
   "cell_type": "markdown",
   "id": "6d98a600",
   "metadata": {},
   "source": [
    "#### Boolean masking and advanced indexing"
   ]
  },
  {
   "cell_type": "code",
   "execution_count": 57,
   "id": "8f522803",
   "metadata": {},
   "outputs": [
    {
     "data": {
      "text/plain": [
       "array([3, 4, 5, 6, 7, 8], dtype=int32)"
      ]
     },
     "execution_count": 57,
     "metadata": {},
     "output_type": "execute_result"
    }
   ],
   "source": [
    "dataAsInt[dataAsInt > 2]"
   ]
  },
  {
   "cell_type": "code",
   "execution_count": 58,
   "id": "f003134c",
   "metadata": {},
   "outputs": [
    {
     "data": {
      "text/plain": [
       "array([1, 4, 6, 7, 9])"
      ]
     },
     "execution_count": 58,
     "metadata": {},
     "output_type": "execute_result"
    }
   ],
   "source": [
    "#Index with a list in numpy\n",
    "a = np.array([1, 2, 3, 4, 5, 6, 7, 8, 9])\n",
    "a[[0, 3, 5, 6, 8]]"
   ]
  },
  {
   "cell_type": "code",
   "execution_count": 59,
   "id": "b3658077",
   "metadata": {},
   "outputs": [
    {
     "data": {
      "text/plain": [
       "array([False,  True,  True,  True])"
      ]
     },
     "execution_count": 59,
     "metadata": {},
     "output_type": "execute_result"
    }
   ],
   "source": [
    "np.any(dataAsInt > 5, axis=0)"
   ]
  },
  {
   "cell_type": "code",
   "execution_count": 60,
   "id": "f009f30e",
   "metadata": {},
   "outputs": [
    {
     "data": {
      "text/plain": [
       "array([False, False, False, False])"
      ]
     },
     "execution_count": 60,
     "metadata": {},
     "output_type": "execute_result"
    }
   ],
   "source": [
    "np.all(dataAsInt>5, axis=0)"
   ]
  },
  {
   "cell_type": "code",
   "execution_count": 61,
   "id": "05ffd99c",
   "metadata": {},
   "outputs": [
    {
     "data": {
      "text/plain": [
       "array([[ True,  True, False, False],\n",
       "       [False, False, False, False]])"
      ]
     },
     "execution_count": 61,
     "metadata": {},
     "output_type": "execute_result"
    }
   ],
   "source": [
    "(~(data>2) & (data<5))"
   ]
  },
  {
   "attachments": {},
   "cell_type": "markdown",
   "id": "c1d2aae8",
   "metadata": {},
   "source": [
    "## Diagonal indexing"
   ]
  },
  {
   "cell_type": "code",
   "execution_count": 68,
   "id": "69d87d78",
   "metadata": {},
   "outputs": [
    {
     "name": "stdout",
     "output_type": "stream",
     "text": [
      "[[1 2 3]\n",
      " [4 5 6]\n",
      " [7 8 9]]\n",
      "[1 5 9]\n"
     ]
    }
   ],
   "source": [
    "twoDim = np.array([[1, 2, 3],\n",
    "                  [4, 5, 6],\n",
    "                  [7, 8, 9]], dtype='int16')\n",
    "print(twoDim)\n",
    "\n",
    "#array[[rows in order], [cols in order]]\n",
    "primary_diagonal = twoDim[[0,1,2], [0,1,2]]\n",
    "print(primary_diagonal)"
   ]
  },
  {
   "cell_type": "code",
   "execution_count": 66,
   "id": "a433f48b",
   "metadata": {},
   "outputs": [
    {
     "data": {
      "text/plain": [
       "array([3, 5, 7], dtype=int16)"
      ]
     },
     "execution_count": 66,
     "metadata": {},
     "output_type": "execute_result"
    }
   ],
   "source": [
    "#secondary diagonal\n",
    "twoDim[[0, 1, 2], [2, 1, 0]]"
   ]
  }
 ],
 "metadata": {
  "kernelspec": {
   "display_name": "Python 3 (ipykernel)",
   "language": "python",
   "name": "python3"
  },
  "language_info": {
   "codemirror_mode": {
    "name": "ipython",
    "version": 3
   },
   "file_extension": ".py",
   "mimetype": "text/x-python",
   "name": "python",
   "nbconvert_exporter": "python",
   "pygments_lexer": "ipython3",
   "version": "3.10.6"
  }
 },
 "nbformat": 4,
 "nbformat_minor": 5
}
